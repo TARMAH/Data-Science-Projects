{
 "cells": [
  {
   "cell_type": "markdown",
   "metadata": {},
   "source": [
    "# WEB SCRAPER Weather Forecast Script"
   ]
  },
  {
   "cell_type": "code",
   "execution_count": 5,
   "metadata": {
    "scrolled": true
   },
   "outputs": [],
   "source": [
    "import pandas as pd\n",
    "import requests\n",
    "from bs4 import BeautifulSoup\n"
   ]
  },
  {
   "cell_type": "code",
   "execution_count": 6,
   "metadata": {},
   "outputs": [],
   "source": [
    "page = requests.get(\n",
    "    'https://forecast.weather.gov/MapClick.php?lat=41.8843&lon=-87.6324#.XIRQYFNKgUE'\n",
    ")"
   ]
  },
  {
   "cell_type": "code",
   "execution_count": 7,
   "metadata": {
    "scrolled": true
   },
   "outputs": [
    {
     "name": "stdout",
     "output_type": "stream",
     "text": [
      "<div class=\"panel-body\" id=\"seven-day-forecast-body\">\n",
      "<div id=\"seven-day-forecast-container\"><ul class=\"list-unstyled\" id=\"seven-day-forecast-list\"><li class=\"forecast-tombstone\">\n",
      "<div class=\"tombstone-container\">\n",
      "<p class=\"period-name\">Today<br/><br/></p>\n",
      "<p><img alt=\"Today: A 40 percent chance of showers and thunderstorms, mainly before 10am.  Cloudy, then gradually becoming mostly sunny, with a high near 76. West wind around 15 mph, with gusts as high as 25 mph. \" class=\"forecast-icon\" src=\"DualImage.php?i=shra&amp;j=sct&amp;ip=40\" title=\"Today: A 40 percent chance of showers and thunderstorms, mainly before 10am.  Cloudy, then gradually becoming mostly sunny, with a high near 76. West wind around 15 mph, with gusts as high as 25 mph. \"/></p><p class=\"short-desc\">Chance<br/>Showers then<br/>Mostly Sunny</p><p class=\"temp temp-high\">High: 76 °F</p></div></li><li class=\"forecast-tombstone\">\n",
      "<div class=\"tombstone-container\">\n",
      "<p class=\"period-name\">Tonight<br/><br/></p>\n",
      "<p><img alt=\"Tonight: Partly cloudy, with a low around 59. West wind 5 to 10 mph. \" class=\"forecast-icon\" src=\"newimages/medium/nsct.png\" title=\"Tonight: Partly cloudy, with a low around 59. West wind 5 to 10 mph. \"/></p><p class=\"short-desc\">Partly Cloudy</p><p class=\"temp temp-low\">Low: 59 °F</p></div></li><li class=\"forecast-tombstone\">\n",
      "<div class=\"tombstone-container\">\n",
      "<p class=\"period-name\">Thursday<br/><br/></p>\n",
      "<p><img alt=\"Thursday: Sunny, with a high near 70. West northwest wind 5 to 10 mph. \" class=\"forecast-icon\" src=\"newimages/medium/few.png\" title=\"Thursday: Sunny, with a high near 70. West northwest wind 5 to 10 mph. \"/></p><p class=\"short-desc\">Sunny</p><p class=\"temp temp-high\">High: 70 °F</p></div></li><li class=\"forecast-tombstone\">\n",
      "<div class=\"tombstone-container\">\n",
      "<p class=\"period-name\">Thursday<br/>Night</p>\n",
      "<p><img alt=\"Thursday Night: A 40 percent chance of showers and thunderstorms after 1am.  Increasing clouds, with a low around 59. West southwest wind 5 to 10 mph becoming south after midnight. Winds could gust as high as 20 mph. \" class=\"forecast-icon\" src=\"DualImage.php?i=nfew&amp;j=nscttsra&amp;jp=40\" title=\"Thursday Night: A 40 percent chance of showers and thunderstorms after 1am.  Increasing clouds, with a low around 59. West southwest wind 5 to 10 mph becoming south after midnight. Winds could gust as high as 20 mph. \"/></p><p class=\"short-desc\">Mostly Clear<br/>then Chance<br/>T-storms</p><p class=\"temp temp-low\">Low: 59 °F</p></div></li><li class=\"forecast-tombstone\">\n",
      "<div class=\"tombstone-container\">\n",
      "<p class=\"period-name\">Friday<br/><br/></p>\n",
      "<p><img alt=\"Friday: Showers and thunderstorms likely.  Cloudy, with a high near 77. Breezy, with a south wind 15 to 20 mph, with gusts as high as 30 mph.  Chance of precipitation is 70%.\" class=\"forecast-icon\" src=\"newimages/medium/tsra70.png\" title=\"Friday: Showers and thunderstorms likely.  Cloudy, with a high near 77. Breezy, with a south wind 15 to 20 mph, with gusts as high as 30 mph.  Chance of precipitation is 70%.\"/></p><p class=\"short-desc\">T-storms<br/>Likely and<br/>Breezy</p><p class=\"temp temp-high\">High: 77 °F</p></div></li><li class=\"forecast-tombstone\">\n",
      "<div class=\"tombstone-container\">\n",
      "<p class=\"period-name\">Friday<br/>Night</p>\n",
      "<p><img alt=\"Friday Night: Showers and thunderstorms.  Low around 59. Chance of precipitation is 90%.\" class=\"forecast-icon\" src=\"newimages/medium/ntsra90.png\" title=\"Friday Night: Showers and thunderstorms.  Low around 59. Chance of precipitation is 90%.\"/></p><p class=\"short-desc\">T-storms</p><p class=\"temp temp-low\">Low: 59 °F</p></div></li><li class=\"forecast-tombstone\">\n",
      "<div class=\"tombstone-container\">\n",
      "<p class=\"period-name\">Saturday<br/><br/></p>\n",
      "<p><img alt=\"Saturday: A 30 percent chance of showers and thunderstorms, mainly after 1pm.  Mostly cloudy, with a high near 65.\" class=\"forecast-icon\" src=\"newimages/medium/tsra30.png\" title=\"Saturday: A 30 percent chance of showers and thunderstorms, mainly after 1pm.  Mostly cloudy, with a high near 65.\"/></p><p class=\"short-desc\">Chance<br/>T-storms</p><p class=\"temp temp-high\">High: 65 °F</p></div></li><li class=\"forecast-tombstone\">\n",
      "<div class=\"tombstone-container\">\n",
      "<p class=\"period-name\">Saturday<br/>Night</p>\n",
      "<p><img alt=\"Saturday Night: A chance of showers and thunderstorms.  Mostly cloudy, with a low around 58.\" class=\"forecast-icon\" src=\"newimages/medium/nscttsra.png\" title=\"Saturday Night: A chance of showers and thunderstorms.  Mostly cloudy, with a low around 58.\"/></p><p class=\"short-desc\">Chance<br/>T-storms</p><p class=\"temp temp-low\">Low: 58 °F</p></div></li><li class=\"forecast-tombstone\">\n",
      "<div class=\"tombstone-container\">\n",
      "<p class=\"period-name\">Sunday<br/><br/></p>\n",
      "<p><img alt=\"Sunday: A chance of showers and thunderstorms, mainly before 1pm.  Mostly cloudy, with a high near 74.\" class=\"forecast-icon\" src=\"newimages/medium/tsra.png\" title=\"Sunday: A chance of showers and thunderstorms, mainly before 1pm.  Mostly cloudy, with a high near 74.\"/></p><p class=\"short-desc\">Chance<br/>T-storms</p><p class=\"temp temp-high\">High: 74 °F</p></div></li></ul></div>\n",
      "<script type=\"text/javascript\">\n",
      "// equalize forecast heights\n",
      "$(function () {\n",
      "\tvar maxh = 0;\n",
      "\t$(\".forecast-tombstone .short-desc\").each(function () {\n",
      "\t\tvar h = $(this).height();\n",
      "\t\tif (h > maxh) { maxh = h; }\n",
      "\t});\n",
      "\t$(\".forecast-tombstone .short-desc\").height(maxh);\n",
      "});\n",
      "</script> </div>\n"
     ]
    }
   ],
   "source": [
    "soup = BeautifulSoup(page.content, 'html.parser')\n",
    "\n",
    "week = soup.find(id='seven-day-forecast-body')\n",
    "\n",
    "print(week)"
   ]
  },
  {
   "cell_type": "code",
   "execution_count": 12,
   "metadata": {},
   "outputs": [],
   "source": [
    "items = week.find_all(class_='tombstone-container')"
   ]
  },
  {
   "cell_type": "code",
   "execution_count": 17,
   "metadata": {
    "scrolled": true
   },
   "outputs": [
    {
     "name": "stdout",
     "output_type": "stream",
     "text": [
      "[<div class=\"tombstone-container\">\n",
      "<p class=\"period-name\">Today<br/><br/></p>\n",
      "<p><img alt=\"Today: A 40 percent chance of showers and thunderstorms, mainly before 10am.  Cloudy, then gradually becoming mostly sunny, with a high near 76. West wind around 15 mph, with gusts as high as 25 mph. \" class=\"forecast-icon\" src=\"DualImage.php?i=shra&amp;j=sct&amp;ip=40\" title=\"Today: A 40 percent chance of showers and thunderstorms, mainly before 10am.  Cloudy, then gradually becoming mostly sunny, with a high near 76. West wind around 15 mph, with gusts as high as 25 mph. \"/></p><p class=\"short-desc\">Chance<br/>Showers then<br/>Mostly Sunny</p><p class=\"temp temp-high\">High: 76 °F</p></div>, <div class=\"tombstone-container\">\n",
      "<p class=\"period-name\">Tonight<br/><br/></p>\n",
      "<p><img alt=\"Tonight: Partly cloudy, with a low around 59. West wind 5 to 10 mph. \" class=\"forecast-icon\" src=\"newimages/medium/nsct.png\" title=\"Tonight: Partly cloudy, with a low around 59. West wind 5 to 10 mph. \"/></p><p class=\"short-desc\">Partly Cloudy</p><p class=\"temp temp-low\">Low: 59 °F</p></div>, <div class=\"tombstone-container\">\n",
      "<p class=\"period-name\">Thursday<br/><br/></p>\n",
      "<p><img alt=\"Thursday: Sunny, with a high near 70. West northwest wind 5 to 10 mph. \" class=\"forecast-icon\" src=\"newimages/medium/few.png\" title=\"Thursday: Sunny, with a high near 70. West northwest wind 5 to 10 mph. \"/></p><p class=\"short-desc\">Sunny</p><p class=\"temp temp-high\">High: 70 °F</p></div>, <div class=\"tombstone-container\">\n",
      "<p class=\"period-name\">Thursday<br/>Night</p>\n",
      "<p><img alt=\"Thursday Night: A 40 percent chance of showers and thunderstorms after 1am.  Increasing clouds, with a low around 59. West southwest wind 5 to 10 mph becoming south after midnight. Winds could gust as high as 20 mph. \" class=\"forecast-icon\" src=\"DualImage.php?i=nfew&amp;j=nscttsra&amp;jp=40\" title=\"Thursday Night: A 40 percent chance of showers and thunderstorms after 1am.  Increasing clouds, with a low around 59. West southwest wind 5 to 10 mph becoming south after midnight. Winds could gust as high as 20 mph. \"/></p><p class=\"short-desc\">Mostly Clear<br/>then Chance<br/>T-storms</p><p class=\"temp temp-low\">Low: 59 °F</p></div>, <div class=\"tombstone-container\">\n",
      "<p class=\"period-name\">Friday<br/><br/></p>\n",
      "<p><img alt=\"Friday: Showers and thunderstorms likely.  Cloudy, with a high near 77. Breezy, with a south wind 15 to 20 mph, with gusts as high as 30 mph.  Chance of precipitation is 70%.\" class=\"forecast-icon\" src=\"newimages/medium/tsra70.png\" title=\"Friday: Showers and thunderstorms likely.  Cloudy, with a high near 77. Breezy, with a south wind 15 to 20 mph, with gusts as high as 30 mph.  Chance of precipitation is 70%.\"/></p><p class=\"short-desc\">T-storms<br/>Likely and<br/>Breezy</p><p class=\"temp temp-high\">High: 77 °F</p></div>, <div class=\"tombstone-container\">\n",
      "<p class=\"period-name\">Friday<br/>Night</p>\n",
      "<p><img alt=\"Friday Night: Showers and thunderstorms.  Low around 59. Chance of precipitation is 90%.\" class=\"forecast-icon\" src=\"newimages/medium/ntsra90.png\" title=\"Friday Night: Showers and thunderstorms.  Low around 59. Chance of precipitation is 90%.\"/></p><p class=\"short-desc\">T-storms</p><p class=\"temp temp-low\">Low: 59 °F</p></div>, <div class=\"tombstone-container\">\n",
      "<p class=\"period-name\">Saturday<br/><br/></p>\n",
      "<p><img alt=\"Saturday: A 30 percent chance of showers and thunderstorms, mainly after 1pm.  Mostly cloudy, with a high near 65.\" class=\"forecast-icon\" src=\"newimages/medium/tsra30.png\" title=\"Saturday: A 30 percent chance of showers and thunderstorms, mainly after 1pm.  Mostly cloudy, with a high near 65.\"/></p><p class=\"short-desc\">Chance<br/>T-storms</p><p class=\"temp temp-high\">High: 65 °F</p></div>, <div class=\"tombstone-container\">\n",
      "<p class=\"period-name\">Saturday<br/>Night</p>\n",
      "<p><img alt=\"Saturday Night: A chance of showers and thunderstorms.  Mostly cloudy, with a low around 58.\" class=\"forecast-icon\" src=\"newimages/medium/nscttsra.png\" title=\"Saturday Night: A chance of showers and thunderstorms.  Mostly cloudy, with a low around 58.\"/></p><p class=\"short-desc\">Chance<br/>T-storms</p><p class=\"temp temp-low\">Low: 58 °F</p></div>, <div class=\"tombstone-container\">\n",
      "<p class=\"period-name\">Sunday<br/><br/></p>\n",
      "<p><img alt=\"Sunday: A chance of showers and thunderstorms, mainly before 1pm.  Mostly cloudy, with a high near 74.\" class=\"forecast-icon\" src=\"newimages/medium/tsra.png\" title=\"Sunday: A chance of showers and thunderstorms, mainly before 1pm.  Mostly cloudy, with a high near 74.\"/></p><p class=\"short-desc\">Chance<br/>T-storms</p><p class=\"temp temp-high\">High: 74 °F</p></div>]\n"
     ]
    }
   ],
   "source": [
    "print(items)"
   ]
  },
  {
   "cell_type": "code",
   "execution_count": 14,
   "metadata": {},
   "outputs": [
    {
     "name": "stdout",
     "output_type": "stream",
     "text": [
      "Today\n"
     ]
    }
   ],
   "source": [
    "print(items[0].find(class_='period-name').get_text())"
   ]
  },
  {
   "cell_type": "code",
   "execution_count": 15,
   "metadata": {},
   "outputs": [
    {
     "name": "stdout",
     "output_type": "stream",
     "text": [
      "ChanceShowers thenMostly Sunny\n"
     ]
    }
   ],
   "source": [
    "print(items[0].find(class_='short-desc').get_text())"
   ]
  },
  {
   "cell_type": "code",
   "execution_count": 16,
   "metadata": {},
   "outputs": [
    {
     "name": "stdout",
     "output_type": "stream",
     "text": [
      "High: 76 °F\n"
     ]
    }
   ],
   "source": [
    "print(items[0].find(class_='temp').get_text())"
   ]
  },
  {
   "cell_type": "code",
   "execution_count": 18,
   "metadata": {},
   "outputs": [],
   "source": [
    "period_names = [item.find(class_='period-name').get_text() for item in items]\n",
    "short_descriptions = [item.find(class_='short-desc').get_text() for item in items]\n",
    "temperatures = [item.find(class_='temp').get_text() for item in items]"
   ]
  },
  {
   "cell_type": "code",
   "execution_count": 20,
   "metadata": {},
   "outputs": [
    {
     "name": "stdout",
     "output_type": "stream",
     "text": [
      "['Today', 'Tonight', 'Thursday', 'ThursdayNight', 'Friday', 'FridayNight', 'Saturday', 'SaturdayNight', 'Sunday']\n",
      "['ChanceShowers thenMostly Sunny', 'Partly Cloudy', 'Sunny', 'Mostly Clearthen ChanceT-storms', 'T-stormsLikely andBreezy', 'T-storms', 'ChanceT-storms', 'ChanceT-storms', 'ChanceT-storms']\n"
     ]
    }
   ],
   "source": [
    "print(period_names)"
   ]
  },
  {
   "cell_type": "code",
   "execution_count": 21,
   "metadata": {},
   "outputs": [
    {
     "name": "stdout",
     "output_type": "stream",
     "text": [
      "['ChanceShowers thenMostly Sunny', 'Partly Cloudy', 'Sunny', 'Mostly Clearthen ChanceT-storms', 'T-stormsLikely andBreezy', 'T-storms', 'ChanceT-storms', 'ChanceT-storms', 'ChanceT-storms']\n"
     ]
    }
   ],
   "source": [
    "print(short_descriptions)"
   ]
  },
  {
   "cell_type": "code",
   "execution_count": 22,
   "metadata": {},
   "outputs": [
    {
     "name": "stdout",
     "output_type": "stream",
     "text": [
      "['High: 76 °F', 'Low: 59 °F', 'High: 70 °F', 'Low: 59 °F', 'High: 77 °F', 'Low: 59 °F', 'High: 65 °F', 'Low: 58 °F', 'High: 74 °F']\n"
     ]
    }
   ],
   "source": [
    "print(temperatures)"
   ]
  },
  {
   "cell_type": "code",
   "execution_count": 23,
   "metadata": {},
   "outputs": [
    {
     "name": "stdout",
     "output_type": "stream",
     "text": [
      "          period               short_descriptions temperatures\n",
      "0          Today   ChanceShowers thenMostly Sunny  High: 76 °F\n",
      "1        Tonight                    Partly Cloudy   Low: 59 °F\n",
      "2       Thursday                            Sunny  High: 70 °F\n",
      "3  ThursdayNight  Mostly Clearthen ChanceT-storms   Low: 59 °F\n",
      "4         Friday         T-stormsLikely andBreezy  High: 77 °F\n",
      "5    FridayNight                         T-storms   Low: 59 °F\n",
      "6       Saturday                   ChanceT-storms  High: 65 °F\n",
      "7  SaturdayNight                   ChanceT-storms   Low: 58 °F\n",
      "8         Sunday                   ChanceT-storms  High: 74 °F\n"
     ]
    }
   ],
   "source": [
    "weather_stuff = pd.DataFrame(\n",
    "    {\n",
    "        'period': period_names,\n",
    "        'short_descriptions': short_descriptions,\n",
    "        'temperatures': temperatures,\n",
    "    })\n",
    "\n",
    "print(weather_stuff)"
   ]
  },
  {
   "cell_type": "code",
   "execution_count": null,
   "metadata": {},
   "outputs": [],
   "source": [
    "#weather_stuff.to_csv('weather.csv')"
   ]
  }
 ],
 "metadata": {
  "kernelspec": {
   "display_name": "Python 3",
   "language": "python",
   "name": "python3"
  },
  "language_info": {
   "codemirror_mode": {
    "name": "ipython",
    "version": 3
   },
   "file_extension": ".py",
   "mimetype": "text/x-python",
   "name": "python",
   "nbconvert_exporter": "python",
   "pygments_lexer": "ipython3",
   "version": "3.7.3"
  }
 },
 "nbformat": 4,
 "nbformat_minor": 2
}
